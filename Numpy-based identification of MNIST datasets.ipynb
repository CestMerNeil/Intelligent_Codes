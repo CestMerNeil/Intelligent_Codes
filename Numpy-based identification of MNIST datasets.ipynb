{
 "cells": [
  {
   "cell_type": "markdown",
   "id": "a5aadcd2",
   "metadata": {},
   "source": [
    "# 第一部分 MNIST数据集的读取"
   ]
  },
  {
   "cell_type": "markdown",
   "id": "e845f5fa",
   "metadata": {},
   "source": [
    "Initiation"
   ]
  },
  {
   "cell_type": "code",
   "execution_count": 8,
   "id": "261046d0",
   "metadata": {},
   "outputs": [],
   "source": [
    "import tensorflow as tf\n",
    "from tensorflow.keras import datasets\n",
    "import numpy as np\n",
    "import pandas as pd"
   ]
  },
  {
   "cell_type": "markdown",
   "id": "d6fbe73e",
   "metadata": {},
   "source": [
    "     @fn load_dataset()\n",
    "     @brief 从TensorFlow的数据库中读取MNIST数据集"
   ]
  },
  {
   "cell_type": "code",
   "execution_count": 9,
   "id": "485e15c3",
   "metadata": {},
   "outputs": [],
   "source": [
    "def load_dataset():\n",
    "    (x, y), (x_test, y_test) = datasets.mnist.load_data()\n",
    "    y = y.reshape(1, -1)\n",
    "    y_test = y_test.reshape(1, -1)\n",
    "    print(\"训练集：\", x.shape[0], x.shape[1], x.shape[2])\n",
    "    print(\"测试集：\", x_test.shape[0], x_test.shape[1], x_test.shape[2])\n",
    "    \n",
    "    # one hat 独热编码处理\n",
    "    y = np.squeeze(y)\n",
    "    y = pd.Series(y)\n",
    "    y = pd.get_dummies(y)\n",
    "    #print(y_test)\n",
    "    #将 y_test 转置为10行 10000列\n",
    "    y = np.array(y).T\n",
    "    \n",
    "    train_set_x_orig, train_set_y, test_set_x_orig, test_set_y = x,y,x_test,y_test\n",
    "    return train_set_x_orig, train_set_y, test_set_x_orig, test_set_y"
   ]
  },
  {
   "cell_type": "code",
   "execution_count": null,
   "id": "add83904",
   "metadata": {},
   "outputs": [],
   "source": []
  }
 ],
 "metadata": {
  "kernelspec": {
   "display_name": "Python 3 (ipykernel)",
   "language": "python",
   "name": "python3"
  },
  "language_info": {
   "codemirror_mode": {
    "name": "ipython",
    "version": 3
   },
   "file_extension": ".py",
   "mimetype": "text/x-python",
   "name": "python",
   "nbconvert_exporter": "python",
   "pygments_lexer": "ipython3",
   "version": "3.8.15"
  }
 },
 "nbformat": 4,
 "nbformat_minor": 5
}
