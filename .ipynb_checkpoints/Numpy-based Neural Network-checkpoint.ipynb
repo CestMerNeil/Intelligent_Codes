{
 "cells": [
  {
   "cell_type": "markdown",
   "id": "7f8de28d",
   "metadata": {},
   "source": [
    "# 完全基于Numpy的神经网络\n",
    "\n",
    "源代码：https://github.com/SkalskiP/ILearnDeepLearning.py/blob/master/01_mysteries_of_neural_networks/03_numpy_neural_net/Numpy%20deep%20neural%20network.ipynb"
   ]
  },
  {
   "cell_type": "markdown",
   "id": "a3bc9951",
   "metadata": {},
   "source": [
    "## 准备阶段\n",
    "\n",
    "在这阶段中定义了一个五层的神经网络，并且定义了每一层网络中神经元的计算方式。同时，本节中同样对两种激活函数进行定义。"
   ]
  },
  {
   "cell_type": "code",
   "execution_count": 43,
   "id": "af6ef1b3",
   "metadata": {},
   "outputs": [],
   "source": [
    "import numpy as np"
   ]
  },
  {
   "cell_type": "markdown",
   "id": "155818f8",
   "metadata": {},
   "source": [
    "定义五层神经网络。每一层神经网络由三个部分组成，分别是输入神经元的数量、输出神经元的数量以及在这一层所使用的激活函数。"
   ]
  },
  {
   "cell_type": "code",
   "execution_count": 44,
   "id": "93d73b78",
   "metadata": {},
   "outputs": [],
   "source": [
    "nn_architecture = [\n",
    "    {\"input_dim\": 2, \"output_dim\" : 2, \"activation\" : \"relu\"},\n",
    "    {\"input_dim\": 25, \"output_dim\" : 50, \"activation\" : \"relu\"},\n",
    "    {\"input_dim\": 50, \"output_dim\" : 50, \"activation\" : \"relu\"},\n",
    "    {\"input_dim\": 50, \"output_dim\" : 25, \"activation\" : \"relu\"},\n",
    "    {\"input_dim\": 25, \"output_dim\" : 1, \"activation\" : \"sigmoid\"},\n",
    "]"
   ]
  },
  {
   "cell_type": "markdown",
   "id": "4b7721d8",
   "metadata": {},
   "source": [
    "    @fn init_layers\n",
    "    @brief 初始化神经网络层\n",
    "    @param nn_architecture 神经网络结构\n",
    "    @param seed 随机种子\n",
    "    @return params_values 函数层的参数"
   ]
  },
  {
   "cell_type": "code",
   "execution_count": 45,
   "id": "d40918da",
   "metadata": {},
   "outputs": [],
   "source": [
    "def init_layers(nn_architecture, seed = 99):\n",
    "    np.random.seed(seed)\n",
    "    number_of_layers = len(nn_architecture)\n",
    "    params_values = {}\n",
    "    \n",
    "    for idx, layer in enumerate(nn_architecture):\n",
    "        layer_idx = idx + 1\n",
    "        \n",
    "        layer_input_size = layer[\"input_dim\"]\n",
    "        layer_output_size = layer[\"output_dim\"]\n",
    "        \n",
    "        params_values['W' + str(layer_idx)] = np.random.randn(\n",
    "            layer_output_size, layer_input_size) * 0.1\n",
    "        params_values['b' + str(layer_idx)] = np.random.randn(\n",
    "            layer_otput_size, 1) * 0.1\n",
    "    \n",
    "    return params_values"
   ]
  },
  {
   "cell_type": "markdown",
   "id": "83f05bae",
   "metadata": {},
   "source": [
    "定义了两种激活函数。同时定义了这两种激活函数的导数以便于反向传播的计算。"
   ]
  },
  {
   "cell_type": "code",
   "execution_count": 46,
   "id": "2f86d9dc",
   "metadata": {},
   "outputs": [],
   "source": [
    "def sigmoid(Z):\n",
    "    return 1/(1+np.exp(-Z))\n",
    "\n",
    "def relu(Z):\n",
    "    return np.maximum(0, Z)\n",
    "\n",
    "def sigmoid_backward(dA, Z):\n",
    "    sig = sigmoid(Z)\n",
    "    return dA * sig * (1 - sig)\n",
    "\n",
    "def relu_backward(dA, Z):\n",
    "    dZ = np.array(dZ, copy = True)\n",
    "    dZ[Z <= 0] = 0\n",
    "    return dZ"
   ]
  },
  {
   "cell_type": "markdown",
   "id": "9de04aa4",
   "metadata": {},
   "source": [
    "## 前向传播阶段"
   ]
  },
  {
   "cell_type": "markdown",
   "id": "20644356",
   "metadata": {},
   "source": [
    "    @fn Signle_layer_forward_propagation\n",
    "    @brief 对一层神经网络的前向传播计算\n",
    "    @param A_prev 神经元的值\n",
    "    @param W_curr 神经元的权重\n",
    "    @param b_curr 神经元的偏置（bias）\n",
    "    @param activation 所使用激活函数的类型\n",
    "    @return 该层经过激活值以及未经激活值"
   ]
  },
  {
   "cell_type": "code",
   "execution_count": 47,
   "id": "3137b6c3",
   "metadata": {},
   "outputs": [],
   "source": [
    "def signle_layer_forward_propagation(A_prev, W_curr, b_curr, activation = \"relu\"):\n",
    "    Z_curr = np.dot(W_curr, A_prev) + b_curr\n",
    "    \n",
    "    if activation == \"relu\":\n",
    "        activation_func = relu\n",
    "    else:\n",
    "        activation_func = sigmoid\n",
    "        \n",
    "    return activation_func(Z_curr), Z_curr"
   ]
  },
  {
   "cell_type": "markdown",
   "id": "6c782f32",
   "metadata": {},
   "source": [
    "    @fn full_forward_propagation\n",
    "    @brief 对所有神经网络的前向传播计算\n",
    "    @param X 输入层的激活值\n",
    "    @param params_values 层的参数\n",
    "    @param nn_architecture 神经网络\n",
    "    @return 每一层的激活值，计算反向传播所需要的内存空间"
   ]
  },
  {
   "cell_type": "code",
   "execution_count": 48,
   "id": "5ae998ae",
   "metadata": {},
   "outputs": [],
   "source": [
    "def full_forward_propagation(X, params_values, nn_architecture):\n",
    "    # creating a temporary memory to store the information needed for a backward step\n",
    "    memory = {}\n",
    "    # X vector is the activation for layer 0 \n",
    "    A_curr = X\n",
    "    \n",
    "    # iteration over network layers\n",
    "    for idx, layer in enumerate(nn_architecture):\n",
    "        # we number network layers from 1\n",
    "        layer_idx = idx + 1\n",
    "        # transfer the activation from the previous iteration\n",
    "        A_prev = A_curr\n",
    "        \n",
    "        # extraction of the activation function for the current layer\n",
    "        activ_function_curr = layer[\"activation\"]\n",
    "        # extraction of W for the current layer\n",
    "        W_curr = params_values[\"W\" + str(layer_idx)]\n",
    "        # extraction of b for the current layer\n",
    "        b_curr = params_values[\"b\" + str(layer_idx)]\n",
    "        # calculation of activation for the current layer\n",
    "        A_curr, Z_curr = single_layer_forward_propagation(A_prev, W_curr, b_curr, activ_function_curr)\n",
    "        \n",
    "        # saving calculated values in the memory\n",
    "        memory[\"A\" + str(idx)] = A_prev\n",
    "        memory[\"Z\" + str(layer_idx)] = Z_curr\n",
    "       \n",
    "    # return of prediction vector and a dictionary containing intermediate values\n",
    "    return A_curr, memory"
   ]
  },
  {
   "cell_type": "markdown",
   "id": "bdb163a8",
   "metadata": {},
   "source": [
    "## 损失函数计算阶段"
   ]
  },
  {
   "cell_type": "code",
   "execution_count": 49,
   "id": "2a46af29",
   "metadata": {},
   "outputs": [],
   "source": [
    "def get_cost_value(Y_hat, Y):\n",
    "    # 交叉熵损失函数\n",
    "    # number of examples\n",
    "    m = Y_hat.shape[1]\n",
    "    # calculation of the cost according to the formula\n",
    "    cost = -1 / m * (np.dot(Y, np.log(Y_hat).T) + np.dot(1 - Y, np.log(1 - Y_hat).T))\n",
    "    return np.squeeze(cost)"
   ]
  },
  {
   "cell_type": "code",
   "execution_count": 50,
   "id": "1748de1a",
   "metadata": {},
   "outputs": [],
   "source": [
    "# an auxiliary function that converts probability into class\n",
    "def convert_prob_into_class(probs):\n",
    "    probs_ = np.copy(probs)\n",
    "    probs_[probs_ > 0.5] = 1\n",
    "    probs_[probs_ <= 0.5] = 0\n",
    "    return probs_"
   ]
  },
  {
   "cell_type": "code",
   "execution_count": 51,
   "id": "799078e6",
   "metadata": {},
   "outputs": [],
   "source": [
    "def get_accuracy_value(Y_hat, Y):\n",
    "    Y_hat_ = convert_prob_into_class(Y_hat)\n",
    "    return (Y_hat_ == Y).all(axis=0).mean()"
   ]
  },
  {
   "cell_type": "markdown",
   "id": "9e5066bc",
   "metadata": {},
   "source": [
    "## 反向传播阶段"
   ]
  },
  {
   "cell_type": "markdown",
   "id": "bdbb3dc4",
   "metadata": {},
   "source": [
    "    @fn single_layer_backward_propagation\n",
    "    @brief 对一层神经网络的反向传播计算\n",
    "    @param dA_curr 前一层的梯度\n",
    "    @param W_curr 层的参数\n",
    "    @param b_curr 神经元的权重\n",
    "    @param Z_curr 神经元的偏置（bias）\n",
    "    @param A_prev 神经元的值\n",
    "    @param activation 激活函数类型\n",
    "    @return 该层参数的梯度"
   ]
  },
  {
   "cell_type": "code",
   "execution_count": 52,
   "id": "f275b103",
   "metadata": {},
   "outputs": [],
   "source": [
    "def single_layer_backward_propagation(dA_curr, W_curr, b_curr, Z_curr, A_prev, activation=\"relu\"):\n",
    "    # number of examples\n",
    "    m = A_prev.shape[1]\n",
    "    \n",
    "    # selection of activation function\n",
    "    if activation == \"relu\":\n",
    "        backward_activation_func = relu_backward\n",
    "    elif activation == \"sigmoid\":\n",
    "        backward_activation_func = sigmoid_backward\n",
    "    else:\n",
    "        raise Exception('Non-supported activation function')\n",
    "    \n",
    "    # calculation of the activation function derivative\n",
    "    dZ_curr = backward_activation_func(dA_curr, Z_curr)\n",
    "    \n",
    "    # derivative of the matrix W\n",
    "    dW_curr = np.dot(dZ_curr, A_prev.T) / m\n",
    "    # derivative of the vector b\n",
    "    db_curr = np.sum(dZ_curr, axis=1, keepdims=True) / m\n",
    "    # derivative of the matrix A_prev\n",
    "    dA_prev = np.dot(W_curr.T, dZ_curr)\n",
    "\n",
    "    return dA_prev, dW_curr, db_curr"
   ]
  },
  {
   "cell_type": "markdown",
   "id": "a6926ba5",
   "metadata": {},
   "source": [
    "    @fn full_backward_propagation\n",
    "    @brief 对所有神经网络的反向传播计算\n",
    "    @param Y_hat 最终得到的前向传播结果\n",
    "    @param Y 预期的前向传播结果\n",
    "    @param memory 存储空间\n",
    "    @param params_values 神经元参数\n",
    "    @param nn_architecture 神经网络\n",
    "    @return 梯度值"
   ]
  },
  {
   "cell_type": "code",
   "execution_count": 53,
   "id": "fab56cbc",
   "metadata": {},
   "outputs": [],
   "source": [
    "def full_backward_propagation(Y_hat, Y, memory, params_values, nn_architecture):\n",
    "    grads_values = {}\n",
    "    \n",
    "    # number of examples\n",
    "    m = Y.shape[1]\n",
    "    # a hack ensuring the same shape of the prediction vector and labels vector\n",
    "    Y = Y.reshape(Y_hat.shape)\n",
    "    \n",
    "    # initiation of gradient descent algorithm\n",
    "    dA_prev = - (np.divide(Y, Y_hat) - np.divide(1 - Y, 1 - Y_hat));\n",
    "    \n",
    "    for layer_idx_prev, layer in reversed(list(enumerate(nn_architecture))):\n",
    "        # we number network layers from 1\n",
    "        layer_idx_curr = layer_idx_prev + 1\n",
    "        # extraction of the activation function for the current layer\n",
    "        activ_function_curr = layer[\"activation\"]\n",
    "        \n",
    "        dA_curr = dA_prev\n",
    "        \n",
    "        A_prev = memory[\"A\" + str(layer_idx_prev)]\n",
    "        Z_curr = memory[\"Z\" + str(layer_idx_curr)]\n",
    "        \n",
    "        W_curr = params_values[\"W\" + str(layer_idx_curr)]\n",
    "        b_curr = params_values[\"b\" + str(layer_idx_curr)]\n",
    "        \n",
    "        dA_prev, dW_curr, db_curr = single_layer_backward_propagation(\n",
    "            dA_curr, W_curr, b_curr, Z_curr, A_prev, activ_function_curr)\n",
    "        \n",
    "        grads_values[\"dW\" + str(layer_idx_curr)] = dW_curr\n",
    "        grads_values[\"db\" + str(layer_idx_curr)] = db_curr\n",
    "    \n",
    "    return grads_values"
   ]
  },
  {
   "cell_type": "markdown",
   "id": "ffb9918b",
   "metadata": {},
   "source": [
    "## 参数更新阶段"
   ]
  },
  {
   "cell_type": "markdown",
   "id": "155a690a",
   "metadata": {},
   "source": [
    "    @fn update\n",
    "    @brief 更新神经网络参数\n",
    "    @param params_values 神经元参数\n",
    "    @param grads_values 梯度值\n",
    "    @param nn_architecture 神经网络框架\n",
    "    @param learning_rate 学习率即每一次更新的步长\n",
    "    @return 更新后的神经网络参数"
   ]
  },
  {
   "cell_type": "code",
   "execution_count": 54,
   "id": "14a55477",
   "metadata": {},
   "outputs": [],
   "source": [
    "def update(params_values, grads_values, nn_architecture, learning_rate):\n",
    "\n",
    "    # iteration over network layers\n",
    "    for layer_idx, layer in enumerate(nn_architecture, 1):\n",
    "        params_values[\"W\" + str(layer_idx)] -= learning_rate * grads_values[\"dW\" + str(layer_idx)]        \n",
    "        params_values[\"b\" + str(layer_idx)] -= learning_rate * grads_values[\"db\" + str(layer_idx)]\n",
    "\n",
    "    return params_values;"
   ]
  },
  {
   "cell_type": "markdown",
   "id": "b81aeeea",
   "metadata": {},
   "source": [
    "## 训练神经网络"
   ]
  },
  {
   "cell_type": "code",
   "execution_count": 55,
   "id": "1ce36061",
   "metadata": {},
   "outputs": [],
   "source": [
    "def train(X, Y, nn_architecture, epochs, learning_rate, verbose=False, callback=None):\n",
    "    # initiation of neural net parameters\n",
    "    params_values = init_layers(nn_architecture, 2)\n",
    "    # initiation of lists storing the history \n",
    "    # of metrics calculated during the learning process \n",
    "    cost_history = []\n",
    "    accuracy_history = []\n",
    "    \n",
    "    # performing calculations for subsequent iterations\n",
    "    for i in range(epochs):\n",
    "        # step forward\n",
    "        Y_hat, cashe = full_forward_propagation(X, params_values, nn_architecture)\n",
    "        \n",
    "        # calculating metrics and saving them in history\n",
    "        cost = get_cost_value(Y_hat, Y)\n",
    "        cost_history.append(cost)\n",
    "        accuracy = get_accuracy_value(Y_hat, Y)\n",
    "        accuracy_history.append(accuracy)\n",
    "        \n",
    "        # step backward - calculating gradient\n",
    "        grads_values = full_backward_propagation(Y_hat, Y, cashe, params_values, nn_architecture)\n",
    "        # updating model state\n",
    "        params_values = update(params_values, grads_values, nn_architecture, learning_rate)\n",
    "        \n",
    "        if(i % 50 == 0):\n",
    "            if(verbose):\n",
    "                print(\"Iteration: {:05} - cost: {:.5f} - accuracy: {:.5f}\".format(i, cost, accuracy))\n",
    "            if(callback is not None):\n",
    "                callback(i, params_values)\n",
    "            \n",
    "    return params_values"
   ]
  }
 ],
 "metadata": {
  "kernelspec": {
   "display_name": "Python 3 (ipykernel)",
   "language": "python",
   "name": "python3"
  },
  "language_info": {
   "codemirror_mode": {
    "name": "ipython",
    "version": 3
   },
   "file_extension": ".py",
   "mimetype": "text/x-python",
   "name": "python",
   "nbconvert_exporter": "python",
   "pygments_lexer": "ipython3",
   "version": "3.8.15"
  }
 },
 "nbformat": 4,
 "nbformat_minor": 5
}
